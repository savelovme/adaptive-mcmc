{
 "cells": [
  {
   "cell_type": "code",
   "execution_count": 4,
   "id": "fe338af2-287e-4118-993b-7d0fb282b622",
   "metadata": {},
   "outputs": [],
   "source": [
    "from posteriordb import PosteriorDatabase\n",
    "pdb_path = \"../posteriordb/posterior_database\"\n",
    "my_pdb = PosteriorDatabase(pdb_path)"
   ]
  },
  {
   "cell_type": "code",
   "execution_count": 19,
   "id": "517d2c08-8497-40fa-9568-46a004d68074",
   "metadata": {},
   "outputs": [],
   "source": [
    "posterior = my_pdb.posterior(\"eight_schools-eight_schools_centered\")\n",
    "\n",
    "model = posterior.model\n",
    "data = posterior.data"
   ]
  },
  {
   "cell_type": "code",
   "execution_count": 20,
   "id": "fc5f793d-f3b3-4391-909a-03c598a23bbd",
   "metadata": {},
   "outputs": [
    {
     "data": {
      "text/plain": [
       "{'keywords': ['stan benchmark', 'pathfinder paper'],\n",
       " 'dimensions': {'theta': 8, 'mu': 1, 'tau': 1},\n",
       " 'added_by': 'Mans Magnusson',\n",
       " 'added_date': '2019-08-12'}"
      ]
     },
     "execution_count": 20,
     "metadata": {},
     "output_type": "execute_result"
    }
   ],
   "source": [
    "posterior.information"
   ]
  },
  {
   "cell_type": "code",
   "execution_count": 16,
   "id": "9b96a0d1-55e1-4a9f-b961-5c3b94a5d58f",
   "metadata": {},
   "outputs": [
    {
     "name": "stdout",
     "output_type": "stream",
     "text": [
      "data {\n",
      "  int<lower=0> J; // number of schools\n",
      "  array[J] real y; // estimated treatment\n",
      "  array[J] real<lower=0> sigma; // std of estimated effect\n",
      "}\n",
      "parameters {\n",
      "  array[J] real theta; // treatment effect in school j\n",
      "  real mu; // hyper-parameter of mean\n",
      "  real<lower=0> tau; // hyper-parameter of sdv\n",
      "}\n",
      "model {\n",
      "  tau ~ cauchy(0, 5); // a non-informative prior\n",
      "  theta ~ normal(mu, tau);\n",
      "  y ~ normal(theta, sigma);\n",
      "  mu ~ normal(0, 5);\n",
      "}\n",
      "\n",
      "\n",
      "\n"
     ]
    }
   ],
   "source": [
    "print(model.code(\"stan\"))"
   ]
  },
  {
   "cell_type": "code",
   "execution_count": 17,
   "id": "00d04cc0-5e76-4ec0-ab97-c4000ca0f1dd",
   "metadata": {},
   "outputs": [
    {
     "data": {
      "text/plain": [
       "{'name': 'eight_schools_centered',\n",
       " 'title': 'A centered hiearchical model for 8 schools',\n",
       " 'description': 'A centered hiearchical model for the 8 schools example of Rubin (1981)',\n",
       " 'keywords': ['bda3_example', 'hiearchical'],\n",
       " 'references': ['rubin1981estimation', 'gelman2013bayesian'],\n",
       " 'urls': 'http://www.stat.columbia.edu/~gelman/arm/examples/schools',\n",
       " 'prior': {'keywords': []},\n",
       " 'added_by': 'Mans Magnusson',\n",
       " 'added_date': '2019-08-12'}"
      ]
     },
     "execution_count": 17,
     "metadata": {},
     "output_type": "execute_result"
    }
   ],
   "source": [
    "model.information"
   ]
  },
  {
   "cell_type": "code",
   "execution_count": 18,
   "id": "c871cb4c-f2d9-4296-ae96-05aabac4f2d7",
   "metadata": {},
   "outputs": [
    {
     "data": {
      "text/plain": [
       "{'name': 'eight_schools',\n",
       " 'keywords': ['bda3_example'],\n",
       " 'title': 'The 8 schools dataset of Rubin (1981)',\n",
       " 'description': 'A study for the Educational Testing Service to analyze the effects of\\nspecial coaching programs on test scores. See Gelman et. al. (2014), Section 5.5 for details.',\n",
       " 'urls': ['http://www.stat.columbia.edu/~gelman/arm/examples/schools'],\n",
       " 'references': ['rubin1981estimation', 'gelman2013bayesian'],\n",
       " 'added_by': 'Mans Magnusson',\n",
       " 'added_date': '2019-08-12'}"
      ]
     },
     "execution_count": 18,
     "metadata": {},
     "output_type": "execute_result"
    }
   ],
   "source": [
    "data.information"
   ]
  },
  {
   "cell_type": "code",
   "execution_count": null,
   "id": "a8f2d4ae-2875-42f0-b89d-d228ba1b5aea",
   "metadata": {},
   "outputs": [],
   "source": []
  }
 ],
 "metadata": {
  "kernelspec": {
   "display_name": "Python 3 (ipykernel)",
   "language": "python",
   "name": "python3"
  },
  "language_info": {
   "codemirror_mode": {
    "name": "ipython",
    "version": 3
   },
   "file_extension": ".py",
   "mimetype": "text/x-python",
   "name": "python",
   "nbconvert_exporter": "python",
   "pygments_lexer": "ipython3",
   "version": "3.12.7"
  }
 },
 "nbformat": 4,
 "nbformat_minor": 5
}
